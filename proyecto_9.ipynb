{
 "cells": [
  {
   "cell_type": "markdown",
   "metadata": {},
   "source": [
    "# Pequeño café en Los Angeles"
   ]
  },
  {
   "cell_type": "markdown",
   "metadata": {},
   "source": [
    "En esta investigación se realizará un análisis a un dataset de restaurantes de LA, para preparar un estudio de mercado, y demostrar que será capaz de continuar con el éxito, aún así los camareros robots desaparezcan, y así atraer a los inversionistas.\n",
    "\n",
    "\n",
    "Por este motivo, se buscará lo siguiente:\n",
    "\n",
    "\n",
    "1. Abrir el archivo de datos y analizar la información general.\n",
    "2. Preprocesar los datos.\n",
    "3. Analizar los datos.\n",
    "4. Preparar una presentación.\n",
    "5. Escribir una conclusión general."
   ]
  },
  {
   "cell_type": "markdown",
   "metadata": {},
   "source": [
    "## Inicialización"
   ]
  },
  {
   "cell_type": "code",
   "execution_count": 1,
   "metadata": {},
   "outputs": [],
   "source": [
    "#Cargar las librerías\n",
    "import matplotlib.pyplot as plt\n",
    "from scipy import stats as st\n",
    "import seaborn as sns\n",
    "import numpy as np\n",
    "from numpy import mean\n",
    "import pandas as pd"
   ]
  },
  {
   "cell_type": "markdown",
   "metadata": {},
   "source": [
    "### Cargar los datos"
   ]
  },
  {
   "cell_type": "code",
   "execution_count": 2,
   "metadata": {
    "scrolled": true
   },
   "outputs": [
    {
     "data": {
      "text/html": [
       "<div>\n",
       "<style scoped>\n",
       "    .dataframe tbody tr th:only-of-type {\n",
       "        vertical-align: middle;\n",
       "    }\n",
       "\n",
       "    .dataframe tbody tr th {\n",
       "        vertical-align: top;\n",
       "    }\n",
       "\n",
       "    .dataframe thead th {\n",
       "        text-align: right;\n",
       "    }\n",
       "</style>\n",
       "<table border=\"1\" class=\"dataframe\">\n",
       "  <thead>\n",
       "    <tr style=\"text-align: right;\">\n",
       "      <th></th>\n",
       "      <th>id</th>\n",
       "      <th>object_name</th>\n",
       "      <th>address</th>\n",
       "      <th>chain</th>\n",
       "      <th>object_type</th>\n",
       "      <th>number</th>\n",
       "    </tr>\n",
       "  </thead>\n",
       "  <tbody>\n",
       "    <tr>\n",
       "      <th>0</th>\n",
       "      <td>11786</td>\n",
       "      <td>HABITAT COFFEE SHOP</td>\n",
       "      <td>3708 N EAGLE ROCK BLVD</td>\n",
       "      <td>False</td>\n",
       "      <td>Cafe</td>\n",
       "      <td>26</td>\n",
       "    </tr>\n",
       "    <tr>\n",
       "      <th>1</th>\n",
       "      <td>11787</td>\n",
       "      <td>REILLY'S</td>\n",
       "      <td>100 WORLD WAY # 120</td>\n",
       "      <td>False</td>\n",
       "      <td>Restaurant</td>\n",
       "      <td>9</td>\n",
       "    </tr>\n",
       "    <tr>\n",
       "      <th>2</th>\n",
       "      <td>11788</td>\n",
       "      <td>STREET CHURROS</td>\n",
       "      <td>6801 HOLLYWOOD BLVD # 253</td>\n",
       "      <td>False</td>\n",
       "      <td>Fast Food</td>\n",
       "      <td>20</td>\n",
       "    </tr>\n",
       "    <tr>\n",
       "      <th>3</th>\n",
       "      <td>11789</td>\n",
       "      <td>TRINITI ECHO PARK</td>\n",
       "      <td>1814 W SUNSET BLVD</td>\n",
       "      <td>False</td>\n",
       "      <td>Restaurant</td>\n",
       "      <td>22</td>\n",
       "    </tr>\n",
       "    <tr>\n",
       "      <th>4</th>\n",
       "      <td>11790</td>\n",
       "      <td>POLLEN</td>\n",
       "      <td>2100 ECHO PARK AVE</td>\n",
       "      <td>False</td>\n",
       "      <td>Restaurant</td>\n",
       "      <td>20</td>\n",
       "    </tr>\n",
       "    <tr>\n",
       "      <th>...</th>\n",
       "      <td>...</td>\n",
       "      <td>...</td>\n",
       "      <td>...</td>\n",
       "      <td>...</td>\n",
       "      <td>...</td>\n",
       "      <td>...</td>\n",
       "    </tr>\n",
       "    <tr>\n",
       "      <th>9646</th>\n",
       "      <td>21432</td>\n",
       "      <td>HALL OF JUSTICE</td>\n",
       "      <td>217 W TEMPLE AVE</td>\n",
       "      <td>False</td>\n",
       "      <td>Restaurant</td>\n",
       "      <td>122</td>\n",
       "    </tr>\n",
       "    <tr>\n",
       "      <th>9647</th>\n",
       "      <td>21433</td>\n",
       "      <td>FIN-MELROSE</td>\n",
       "      <td>5750 MELROSE AVE</td>\n",
       "      <td>False</td>\n",
       "      <td>Restaurant</td>\n",
       "      <td>93</td>\n",
       "    </tr>\n",
       "    <tr>\n",
       "      <th>9648</th>\n",
       "      <td>21434</td>\n",
       "      <td>JUICY WINGZ</td>\n",
       "      <td>6741 HOLLYWOOD BLVD</td>\n",
       "      <td>True</td>\n",
       "      <td>Fast Food</td>\n",
       "      <td>15</td>\n",
       "    </tr>\n",
       "    <tr>\n",
       "      <th>9649</th>\n",
       "      <td>21435</td>\n",
       "      <td>MEDIDATE COFFEE</td>\n",
       "      <td>548 S SPRING ST STE 100</td>\n",
       "      <td>False</td>\n",
       "      <td>Cafe</td>\n",
       "      <td>6</td>\n",
       "    </tr>\n",
       "    <tr>\n",
       "      <th>9650</th>\n",
       "      <td>21436</td>\n",
       "      <td>CAFE SPROUTS</td>\n",
       "      <td>1300 S SAN PEDRO ST STE 111</td>\n",
       "      <td>True</td>\n",
       "      <td>Restaurant</td>\n",
       "      <td>19</td>\n",
       "    </tr>\n",
       "  </tbody>\n",
       "</table>\n",
       "<p>9651 rows × 6 columns</p>\n",
       "</div>"
      ],
      "text/plain": [
       "         id          object_name                      address  chain  \\\n",
       "0     11786  HABITAT COFFEE SHOP       3708 N EAGLE ROCK BLVD  False   \n",
       "1     11787             REILLY'S          100 WORLD WAY # 120  False   \n",
       "2     11788       STREET CHURROS    6801 HOLLYWOOD BLVD # 253  False   \n",
       "3     11789    TRINITI ECHO PARK           1814 W SUNSET BLVD  False   \n",
       "4     11790               POLLEN           2100 ECHO PARK AVE  False   \n",
       "...     ...                  ...                          ...    ...   \n",
       "9646  21432      HALL OF JUSTICE             217 W TEMPLE AVE  False   \n",
       "9647  21433          FIN-MELROSE             5750 MELROSE AVE  False   \n",
       "9648  21434          JUICY WINGZ          6741 HOLLYWOOD BLVD   True   \n",
       "9649  21435      MEDIDATE COFFEE      548 S SPRING ST STE 100  False   \n",
       "9650  21436         CAFE SPROUTS  1300 S SAN PEDRO ST STE 111   True   \n",
       "\n",
       "     object_type  number  \n",
       "0           Cafe      26  \n",
       "1     Restaurant       9  \n",
       "2      Fast Food      20  \n",
       "3     Restaurant      22  \n",
       "4     Restaurant      20  \n",
       "...          ...     ...  \n",
       "9646  Restaurant     122  \n",
       "9647  Restaurant      93  \n",
       "9648   Fast Food      15  \n",
       "9649        Cafe       6  \n",
       "9650  Restaurant      19  \n",
       "\n",
       "[9651 rows x 6 columns]"
      ]
     },
     "execution_count": 2,
     "metadata": {},
     "output_type": "execute_result"
    }
   ],
   "source": [
    "rest_data = pd.read_csv('/datasets/rest_data_us.csv')\n",
    "rest_data"
   ]
  },
  {
   "cell_type": "code",
   "execution_count": 3,
   "metadata": {},
   "outputs": [
    {
     "data": {
      "text/plain": [
       "40                SUBWAY -52105\n",
       "82                SUBWAY #39685\n",
       "118               SUBWAY #14183\n",
       "162               SUBWAY #12484\n",
       "182                SUBWAY #1763\n",
       "255                      SUBWAY\n",
       "304               SUBWAY #23131\n",
       "330           SUBWAY SANDWICHES\n",
       "401               SUBWAY #12481\n",
       "414                SUBWAY #6516\n",
       "421           SUBWAY SANDWICHES\n",
       "436                      SUBWAY\n",
       "544     SUBWAY SANDWICHES 13941\n",
       "549               SUBWAY #60767\n",
       "550               SUBWAY #26578\n",
       "566                      SUBWAY\n",
       "626               SUBWAY #40374\n",
       "663                SUBWAY 46382\n",
       "747               SUBWAY #43422\n",
       "770                      SUBWAY\n",
       "905              SUBWAY # 16781\n",
       "908           SUBWAY SANDWICHES\n",
       "918                      SUBWAY\n",
       "943                      SUBWAY\n",
       "977               SUBWAY #44286\n",
       "1026          SUBWAY SANDWICHES\n",
       "1033               SUBWAY #7153\n",
       "1057                     SUBWAY\n",
       "1147              SUBWAY #36047\n",
       "1184              SUBWAY #24437\n",
       "Name: object_name, dtype: object"
      ]
     },
     "execution_count": 3,
     "metadata": {},
     "output_type": "execute_result"
    }
   ],
   "source": [
    "# código del revisor\n",
    "rest_data[rest_data['object_name'].str.contains(\"SUBWAY\")]['object_name'].head(30)"
   ]
  },
  {
   "cell_type": "code",
   "execution_count": 4,
   "metadata": {
    "scrolled": false
   },
   "outputs": [
    {
     "data": {
      "text/plain": [
       "SUBWAY                        152\n",
       "STARBUCKS                     129\n",
       "MCDONALD'S                     82\n",
       "THE COFFEE BEAN & TEA LEAF     55\n",
       "EL POLLO LOCO                  38\n",
       "                             ... \n",
       "NG,PEEK HOH                     1\n",
       "THE CORK AT LA TIJERA           1\n",
       "ALIBI ROOM                      1\n",
       "OHANA BURGER                    1\n",
       "PANDA EXPRESS #435              1\n",
       "Name: object_name, Length: 8248, dtype: int64"
      ]
     },
     "execution_count": 4,
     "metadata": {},
     "output_type": "execute_result"
    }
   ],
   "source": [
    "top_rests = rest_data.groupby('object_name')['object_type'].count().sort_values(ascending=False).head(20)\n",
    "list_rests = [\"SUBWAY\", \"THE COFFEE BEAN & TEA LEAF\", \"DOMINO'S PIZZA\",\"KFC\", \"KENTUCKY FRIED CHICKEN\", \"WABA GRILL\", \"MCDONALD'S\", \"TRIMANA\", \"HONG KONG EXPRESS\", \"STARBUCKS\", \"YOGURTLAND\", \"PAPA JOHN'S PIZZA\", \"WINGSTOP\", \"EL POLLO LOCO\", \"CHIPOTLE MEXICAN GRILL\", \"LOUISIANA FRIED CHICKEN\", \"BLUE BOTTLE COFFEE\", \"BASKIN ROBBINS\", \"JERSEY MIKE'S SUBS\", \"CARL'S JR\"]\n",
    "for val in list_rests:\n",
    "        rest_data['object_name'] = rest_data['object_name'].str.replace(f\".*{val}.*\", f'{val}', regex=True)\n",
    "rest_data['object_name'] = rest_data['object_name'].replace({'KFC': 'KENTUCKY FRIED CHICKEN'})\n",
    "rest_data['object_name'].value_counts()"
   ]
  },
  {
   "cell_type": "code",
   "execution_count": 5,
   "metadata": {},
   "outputs": [
    {
     "data": {
      "text/plain": [
       "40     SUBWAY\n",
       "82     SUBWAY\n",
       "118    SUBWAY\n",
       "162    SUBWAY\n",
       "182    SUBWAY\n",
       "255    SUBWAY\n",
       "304    SUBWAY\n",
       "330    SUBWAY\n",
       "401    SUBWAY\n",
       "414    SUBWAY\n",
       "421    SUBWAY\n",
       "436    SUBWAY\n",
       "544    SUBWAY\n",
       "549    SUBWAY\n",
       "550    SUBWAY\n",
       "566    SUBWAY\n",
       "626    SUBWAY\n",
       "663    SUBWAY\n",
       "747    SUBWAY\n",
       "770    SUBWAY\n",
       "Name: object_name, dtype: object"
      ]
     },
     "execution_count": 5,
     "metadata": {},
     "output_type": "execute_result"
    }
   ],
   "source": [
    "rest_data[rest_data['object_name'].str.contains(\"SUBWAY\")]['object_name'].head(20)"
   ]
  },
  {
   "cell_type": "markdown",
   "metadata": {},
   "source": [
    "### Explorar la información general."
   ]
  },
  {
   "cell_type": "code",
   "execution_count": 6,
   "metadata": {},
   "outputs": [
    {
     "name": "stdout",
     "output_type": "stream",
     "text": [
      "<class 'pandas.core.frame.DataFrame'>\n",
      "RangeIndex: 9651 entries, 0 to 9650\n",
      "Data columns (total 6 columns):\n",
      " #   Column       Non-Null Count  Dtype \n",
      "---  ------       --------------  ----- \n",
      " 0   id           9651 non-null   int64 \n",
      " 1   object_name  9651 non-null   object\n",
      " 2   address      9651 non-null   object\n",
      " 3   chain        9648 non-null   object\n",
      " 4   object_type  9651 non-null   object\n",
      " 5   number       9651 non-null   int64 \n",
      "dtypes: int64(2), object(4)\n",
      "memory usage: 452.5+ KB\n"
     ]
    }
   ],
   "source": [
    "rest_data.info()"
   ]
  },
  {
   "cell_type": "code",
   "execution_count": 7,
   "metadata": {},
   "outputs": [
    {
     "data": {
      "text/plain": [
       "0"
      ]
     },
     "execution_count": 7,
     "metadata": {},
     "output_type": "execute_result"
    }
   ],
   "source": [
    "rest_data.duplicated().sum()"
   ]
  },
  {
   "cell_type": "code",
   "execution_count": 8,
   "metadata": {},
   "outputs": [
    {
     "data": {
      "text/html": [
       "<div>\n",
       "<style scoped>\n",
       "    .dataframe tbody tr th:only-of-type {\n",
       "        vertical-align: middle;\n",
       "    }\n",
       "\n",
       "    .dataframe tbody tr th {\n",
       "        vertical-align: top;\n",
       "    }\n",
       "\n",
       "    .dataframe thead th {\n",
       "        text-align: right;\n",
       "    }\n",
       "</style>\n",
       "<table border=\"1\" class=\"dataframe\">\n",
       "  <thead>\n",
       "    <tr style=\"text-align: right;\">\n",
       "      <th></th>\n",
       "      <th>id</th>\n",
       "      <th>number</th>\n",
       "    </tr>\n",
       "  </thead>\n",
       "  <tbody>\n",
       "    <tr>\n",
       "      <th>count</th>\n",
       "      <td>9651.000000</td>\n",
       "      <td>9651.000000</td>\n",
       "    </tr>\n",
       "    <tr>\n",
       "      <th>mean</th>\n",
       "      <td>16611.000000</td>\n",
       "      <td>43.695161</td>\n",
       "    </tr>\n",
       "    <tr>\n",
       "      <th>std</th>\n",
       "      <td>2786.148058</td>\n",
       "      <td>47.622874</td>\n",
       "    </tr>\n",
       "    <tr>\n",
       "      <th>min</th>\n",
       "      <td>11786.000000</td>\n",
       "      <td>1.000000</td>\n",
       "    </tr>\n",
       "    <tr>\n",
       "      <th>25%</th>\n",
       "      <td>14198.500000</td>\n",
       "      <td>14.000000</td>\n",
       "    </tr>\n",
       "    <tr>\n",
       "      <th>50%</th>\n",
       "      <td>16611.000000</td>\n",
       "      <td>27.000000</td>\n",
       "    </tr>\n",
       "    <tr>\n",
       "      <th>75%</th>\n",
       "      <td>19023.500000</td>\n",
       "      <td>46.000000</td>\n",
       "    </tr>\n",
       "    <tr>\n",
       "      <th>max</th>\n",
       "      <td>21436.000000</td>\n",
       "      <td>229.000000</td>\n",
       "    </tr>\n",
       "  </tbody>\n",
       "</table>\n",
       "</div>"
      ],
      "text/plain": [
       "                 id       number\n",
       "count   9651.000000  9651.000000\n",
       "mean   16611.000000    43.695161\n",
       "std     2786.148058    47.622874\n",
       "min    11786.000000     1.000000\n",
       "25%    14198.500000    14.000000\n",
       "50%    16611.000000    27.000000\n",
       "75%    19023.500000    46.000000\n",
       "max    21436.000000   229.000000"
      ]
     },
     "execution_count": 8,
     "metadata": {},
     "output_type": "execute_result"
    }
   ],
   "source": [
    "rest_data.describe()"
   ]
  },
  {
   "cell_type": "markdown",
   "metadata": {},
   "source": [
    "Se importó el datset, y se pudo observar que los tipos datos se encuentran en orden, no hay valores duplicados, solo se encontraron 3 valores ausentes en una columna, y se lidiará con este pequeño detalle en el próximo paso."
   ]
  },
  {
   "cell_type": "markdown",
   "metadata": {},
   "source": [
    "### Preprocesar los datos"
   ]
  },
  {
   "cell_type": "code",
   "execution_count": 9,
   "metadata": {},
   "outputs": [
    {
     "name": "stdout",
     "output_type": "stream",
     "text": [
      "El número de NaN para chain es 3, representando un 0.031084861672365557 %\n"
     ]
    }
   ],
   "source": [
    "total_data = rest_data.shape[0]\n",
    "for column in rest_data.columns:\n",
    "    number_of_nan = rest_data[column].isna().sum()\n",
    "    if number_of_nan > 0:\n",
    "        print(f'El número de NaN para {column} es {number_of_nan}, representando un {100*number_of_nan/total_data} %')"
   ]
  },
  {
   "cell_type": "markdown",
   "metadata": {},
   "source": [
    "Como los valores ausentes de dicha columna no abarca un porcentaje considerable, se tomará la decisión de eliminarlos."
   ]
  },
  {
   "cell_type": "code",
   "execution_count": 10,
   "metadata": {},
   "outputs": [
    {
     "name": "stdout",
     "output_type": "stream",
     "text": [
      "<class 'pandas.core.frame.DataFrame'>\n",
      "Int64Index: 9648 entries, 0 to 9650\n",
      "Data columns (total 6 columns):\n",
      " #   Column       Non-Null Count  Dtype \n",
      "---  ------       --------------  ----- \n",
      " 0   id           9648 non-null   int64 \n",
      " 1   object_name  9648 non-null   object\n",
      " 2   address      9648 non-null   object\n",
      " 3   chain        9648 non-null   object\n",
      " 4   object_type  9648 non-null   object\n",
      " 5   number       9648 non-null   int64 \n",
      "dtypes: int64(2), object(4)\n",
      "memory usage: 527.6+ KB\n"
     ]
    }
   ],
   "source": [
    "rest_data = rest_data.dropna()\n",
    "rest_data.info()"
   ]
  },
  {
   "cell_type": "markdown",
   "metadata": {},
   "source": [
    "## Análisis de datos"
   ]
  },
  {
   "cell_type": "markdown",
   "metadata": {},
   "source": [
    "### proporciones de los distintos tipos de establecimientos"
   ]
  },
  {
   "cell_type": "code",
   "execution_count": 11,
   "metadata": {},
   "outputs": [
    {
     "data": {
      "text/plain": [
       "421652"
      ]
     },
     "execution_count": 11,
     "metadata": {},
     "output_type": "execute_result"
    }
   ],
   "source": [
    "total_segments = rest_data['number'].sum()\n",
    "total_segments"
   ]
  },
  {
   "cell_type": "code",
   "execution_count": 12,
   "metadata": {},
   "outputs": [],
   "source": [
    "restaurant = (rest_data[rest_data['object_type'] == 'Restaurant']['number'].sum()) / total_segments\n",
    "fast_food = (rest_data[rest_data['object_type'] == 'Fast Food']['number'].sum()) / total_segments\n",
    "bar = (rest_data[rest_data['object_type'] == 'Bar']['number'].sum()) / total_segments\n",
    "cafe = (rest_data[rest_data['object_type'] == 'Cafe']['number'].sum()) / total_segments\n",
    "pizza = (rest_data[rest_data['object_type'] == 'Pizza']['number'].sum()) / total_segments\n",
    "bakery = (rest_data[rest_data['object_type'] == 'Bakery']['number'].sum()) / total_segments"
   ]
  },
  {
   "cell_type": "code",
   "execution_count": 13,
   "metadata": {
    "scrolled": true
   },
   "outputs": [
    {
     "data": {
      "image/png": "[encoded data removed]",
      "text/plain": [
       "<Figure size 432x288 with 1 Axes>"
      ]
     },
     "metadata": {
      "needs_background": "light"
     },
     "output_type": "display_data"
    }
   ],
   "source": [
    "keys = ['Restaurant', 'Fast Food', 'Bar', 'Cafe', 'Pizza', 'Bakery']\n",
    "vals = [restaurant, fast_food, bar, cafe, pizza, bakery]\n",
    "rest_data['object_type'].value_counts(normalize=True).plot(kind='bar')\n",
    "plt.title('proporciones de los distintos tipos de establecimientos')\n",
    "plt.xlabel('tipos de establecimientos')\n",
    "plt.ylabel('proporciones')\n",
    "plt.show()"
   ]
  },
  {
   "cell_type": "markdown",
   "metadata": {},
   "source": [
    "La proporción del número de asientos de un restaurante es mayor que al de los otros tipos de establecimientos."
   ]
  },
  {
   "cell_type": "markdown",
   "metadata": {},
   "source": [
    "###  proporciones de los establecimientos que pertenecen a una cadena y de los que no"
   ]
  },
  {
   "cell_type": "code",
   "execution_count": 14,
   "metadata": {
    "scrolled": true
   },
   "outputs": [
    {
     "data": {
      "image/png": "[encoded data removed]",
      "text/plain": [
       "<Figure size 432x288 with 1 Axes>"
      ]
     },
     "metadata": {
      "needs_background": "light"
     },
     "output_type": "display_data"
    }
   ],
   "source": [
    "false = (rest_data[rest_data['chain'] == False]['number'].sum()) / total_segments\n",
    "true = (rest_data[rest_data['chain'] == True]['number'].sum()) / total_segments\n",
    "keys = ['False', 'True']\n",
    "vals = [false, true]\n",
    "rest_data['chain'].value_counts(normalize=True).plot(kind='bar')\n",
    "plt.title('proporciones de los establecimientos de una cadena o no')\n",
    "plt.xlabel('tipos de cadenas')\n",
    "plt.ylabel('proporciones')\n",
    "plt.show()"
   ]
  },
  {
   "cell_type": "markdown",
   "metadata": {},
   "source": [
    "Los establecimientos que nos una cadena poseen una proporción mayor en el número de asientos que los establecimientos que sí son cadena."
   ]
  },
  {
   "cell_type": "markdown",
   "metadata": {},
   "source": [
    "### ¿Qué tipo de establecimiento es habitualmente una cadena?"
   ]
  },
  {
   "cell_type": "code",
   "execution_count": 15,
   "metadata": {},
   "outputs": [
    {
     "data": {
      "text/html": [
       "<div>\n",
       "<style scoped>\n",
       "    .dataframe tbody tr th:only-of-type {\n",
       "        vertical-align: middle;\n",
       "    }\n",
       "\n",
       "    .dataframe tbody tr th {\n",
       "        vertical-align: top;\n",
       "    }\n",
       "\n",
       "    .dataframe thead tr th {\n",
       "        text-align: left;\n",
       "    }\n",
       "\n",
       "    .dataframe thead tr:last-of-type th {\n",
       "        text-align: right;\n",
       "    }\n",
       "</style>\n",
       "<table border=\"1\" class=\"dataframe\">\n",
       "  <thead>\n",
       "    <tr>\n",
       "      <th></th>\n",
       "      <th>sum</th>\n",
       "      <th>count</th>\n",
       "      <th>mean</th>\n",
       "    </tr>\n",
       "    <tr>\n",
       "      <th></th>\n",
       "      <th>chain_num</th>\n",
       "      <th>chain_num</th>\n",
       "      <th>chain_num</th>\n",
       "    </tr>\n",
       "    <tr>\n",
       "      <th>object_type</th>\n",
       "      <th></th>\n",
       "      <th></th>\n",
       "      <th></th>\n",
       "    </tr>\n",
       "  </thead>\n",
       "  <tbody>\n",
       "    <tr>\n",
       "      <th>Bakery</th>\n",
       "      <td>283</td>\n",
       "      <td>283</td>\n",
       "      <td>1.000000</td>\n",
       "    </tr>\n",
       "    <tr>\n",
       "      <th>Bar</th>\n",
       "      <td>77</td>\n",
       "      <td>292</td>\n",
       "      <td>0.263699</td>\n",
       "    </tr>\n",
       "    <tr>\n",
       "      <th>Cafe</th>\n",
       "      <td>266</td>\n",
       "      <td>435</td>\n",
       "      <td>0.611494</td>\n",
       "    </tr>\n",
       "    <tr>\n",
       "      <th>Fast Food</th>\n",
       "      <td>605</td>\n",
       "      <td>1066</td>\n",
       "      <td>0.567542</td>\n",
       "    </tr>\n",
       "    <tr>\n",
       "      <th>Pizza</th>\n",
       "      <td>153</td>\n",
       "      <td>319</td>\n",
       "      <td>0.479624</td>\n",
       "    </tr>\n",
       "    <tr>\n",
       "      <th>Restaurant</th>\n",
       "      <td>2292</td>\n",
       "      <td>7253</td>\n",
       "      <td>0.316007</td>\n",
       "    </tr>\n",
       "  </tbody>\n",
       "</table>\n",
       "</div>"
      ],
      "text/plain": [
       "                  sum     count      mean\n",
       "            chain_num chain_num chain_num\n",
       "object_type                              \n",
       "Bakery            283       283  1.000000\n",
       "Bar                77       292  0.263699\n",
       "Cafe              266       435  0.611494\n",
       "Fast Food         605      1066  0.567542\n",
       "Pizza             153       319  0.479624\n",
       "Restaurant       2292      7253  0.316007"
      ]
     },
     "execution_count": 15,
     "metadata": {},
     "output_type": "execute_result"
    }
   ],
   "source": [
    "(rest_data\n",
    "     .assign(chain_num=rest_data['chain'].astype(int))\n",
    "     .pivot_table(index='object_type', \n",
    "                  values='chain_num', \n",
    "                  aggfunc=['sum', 'count', 'mean']))"
   ]
  },
  {
   "cell_type": "markdown",
   "metadata": {},
   "source": [
    "El tipo de establecimiento que habitualmente es una cadena, es la pastelería, ya que no tiene ningún establecimiento que no sea una cadena."
   ]
  },
  {
   "cell_type": "markdown",
   "metadata": {},
   "source": [
    "### ¿Qué caracteriza a las cadenas: muchos establecimientos con un pequeño número de asientos o unos pocos establecimientos con un montón de asientos?"
   ]
  },
  {
   "cell_type": "code",
   "execution_count": 16,
   "metadata": {},
   "outputs": [
    {
     "name": "stderr",
     "output_type": "stream",
     "text": [
      "/opt/conda/lib/python3.9/site-packages/seaborn/distributions.py:2557: FutureWarning: `distplot` is a deprecated function and will be removed in a future version. Please adapt your code to use either `displot` (a figure-level function with similar flexibility) or `histplot` (an axes-level function for histograms).\n",
      "  warnings.warn(msg, FutureWarning)\n"
     ]
    },
    {
     "data": {
      "text/plain": [
       "<AxesSubplot:xlabel='number', ylabel='Density'>"
      ]
     },
     "execution_count": 16,
     "metadata": {},
     "output_type": "execute_result"
    },
    {
     "data": {
      "image/png": "[encoded data removed]",
      "text/plain": [
       "<Figure size 432x288 with 1 Axes>"
      ]
     },
     "metadata": {
      "needs_background": "light"
     },
     "output_type": "display_data"
    }
   ],
   "source": [
    "chains = rest_data.query('chain == True')\n",
    "sns.distplot(chains['number'], bins=10)"
   ]
  },
  {
   "cell_type": "code",
   "execution_count": 17,
   "metadata": {},
   "outputs": [
    {
     "data": {
      "text/plain": [
       "3676"
      ]
     },
     "execution_count": 17,
     "metadata": {},
     "output_type": "execute_result"
    }
   ],
   "source": [
    "chains['object_name'].count()\n"
   ]
  },
  {
   "cell_type": "code",
   "execution_count": 18,
   "metadata": {},
   "outputs": [
    {
     "data": {
      "text/plain": [
       "145916"
      ]
     },
     "execution_count": 18,
     "metadata": {},
     "output_type": "execute_result"
    }
   ],
   "source": [
    "chains['number'].sum()"
   ]
  },
  {
   "cell_type": "code",
   "execution_count": 19,
   "metadata": {},
   "outputs": [
    {
     "data": {
      "text/plain": [
       "5972"
      ]
     },
     "execution_count": 19,
     "metadata": {},
     "output_type": "execute_result"
    }
   ],
   "source": [
    "no_chains = rest_data.query('chain == False')\n",
    "no_chains['object_name'].count()"
   ]
  },
  {
   "cell_type": "code",
   "execution_count": 20,
   "metadata": {},
   "outputs": [
    {
     "name": "stderr",
     "output_type": "stream",
     "text": [
      "/opt/conda/lib/python3.9/site-packages/seaborn/distributions.py:2557: FutureWarning: `distplot` is a deprecated function and will be removed in a future version. Please adapt your code to use either `displot` (a figure-level function with similar flexibility) or `histplot` (an axes-level function for histograms).\n",
      "  warnings.warn(msg, FutureWarning)\n"
     ]
    },
    {
     "data": {
      "text/plain": [
       "<AxesSubplot:xlabel='number', ylabel='Density'>"
      ]
     },
     "execution_count": 20,
     "metadata": {},
     "output_type": "execute_result"
    },
    {
     "data": {
      "image/png": "[encoded data removed]",
      "text/plain": [
       "<Figure size 432x288 with 1 Axes>"
      ]
     },
     "metadata": {
      "needs_background": "light"
     },
     "output_type": "display_data"
    }
   ],
   "source": [
    "sns.distplot(no_chains['number'], bins=10)"
   ]
  },
  {
   "cell_type": "markdown",
   "metadata": {},
   "source": [
    "Lo que caracteriza a las cadenas, son pocos establecimientos, pero muchas sillas."
   ]
  },
  {
   "cell_type": "markdown",
   "metadata": {},
   "source": [
    "### De promedio¿qué tipo de restaurante tiene el mayor número de asientos?"
   ]
  },
  {
   "cell_type": "code",
   "execution_count": 21,
   "metadata": {},
   "outputs": [
    {
     "data": {
      "text/plain": [
       "object_type\n",
       "Restaurant    48.048807\n",
       "Bar           44.767123\n",
       "Fast Food     31.837711\n",
       "Pizza         28.545455\n",
       "Cafe          25.000000\n",
       "Bakery        21.773852\n",
       "Name: number, dtype: float64"
      ]
     },
     "execution_count": 21,
     "metadata": {},
     "output_type": "execute_result"
    }
   ],
   "source": [
    "rest_data.groupby('object_type')['number'].mean().sort_values(ascending=False)"
   ]
  },
  {
   "cell_type": "code",
   "execution_count": 22,
   "metadata": {},
   "outputs": [
    {
     "data": {
      "text/plain": [
       "<AxesSubplot:xlabel='object_type', ylabel='number'>"
      ]
     },
     "execution_count": 22,
     "metadata": {},
     "output_type": "execute_result"
    },
    {
     "data": {
      "image/png": "[encoded data removed]",
      "text/plain": [
       "<Figure size 432x288 with 1 Axes>"
      ]
     },
     "metadata": {
      "needs_background": "light"
     },
     "output_type": "display_data"
    }
   ],
   "source": [
    "sns.barplot(x='object_type', y='number', data=rest_data, estimator=mean)"
   ]
  },
  {
   "cell_type": "markdown",
   "metadata": {},
   "source": [
    "El restaurante es el tipo que más número de asientos tiene en promedio.\n"
   ]
  },
  {
   "cell_type": "markdown",
   "metadata": {},
   "source": [
    "### Coloca los datos de los nombres de las calles de la columna address en una columna separada."
   ]
  },
  {
   "cell_type": "code",
   "execution_count": 34,
   "metadata": {
    "scrolled": true
   },
   "outputs": [
    {
     "name": "stderr",
     "output_type": "stream",
     "text": [
      "/tmp/ipykernel_152/2099261710.py:1: SettingWithCopyWarning: \n",
      "A value is trying to be set on a copy of a slice from a DataFrame.\n",
      "Try using .loc[row_indexer,col_indexer] = value instead\n",
      "\n",
      "See the caveats in the documentation: https://pandas.pydata.org/pandas-docs/stable/user_guide/indexing.html#returning-a-view-versus-a-copy\n",
      "  rest_data['street_name'] = rest_data['address'].str.split().str[1:4].str.join(' ')\n",
      "/tmp/ipykernel_152/2099261710.py:2: SettingWithCopyWarning: \n",
      "A value is trying to be set on a copy of a slice from a DataFrame.\n",
      "Try using .loc[row_indexer,col_indexer] = value instead\n",
      "\n",
      "See the caveats in the documentation: https://pandas.pydata.org/pandas-docs/stable/user_guide/indexing.html#returning-a-view-versus-a-copy\n",
      "  rest_data['street_name'] = rest_data['street_name'].str.replace(r'^(?:[W|N|S|E] )|(?:\\s[#|W|N|S|E])$', '', regex=True)\n"
     ]
    },
    {
     "data": {
      "text/html": [
       "<div>\n",
       "<style scoped>\n",
       "    .dataframe tbody tr th:only-of-type {\n",
       "        vertical-align: middle;\n",
       "    }\n",
       "\n",
       "    .dataframe tbody tr th {\n",
       "        vertical-align: top;\n",
       "    }\n",
       "\n",
       "    .dataframe thead th {\n",
       "        text-align: right;\n",
       "    }\n",
       "</style>\n",
       "<table border=\"1\" class=\"dataframe\">\n",
       "  <thead>\n",
       "    <tr style=\"text-align: right;\">\n",
       "      <th></th>\n",
       "      <th>id</th>\n",
       "      <th>object_name</th>\n",
       "      <th>address</th>\n",
       "      <th>chain</th>\n",
       "      <th>object_type</th>\n",
       "      <th>number</th>\n",
       "      <th>street_name</th>\n",
       "    </tr>\n",
       "  </thead>\n",
       "  <tbody>\n",
       "    <tr>\n",
       "      <th>0</th>\n",
       "      <td>11786</td>\n",
       "      <td>HABITAT COFFEE SHOP</td>\n",
       "      <td>3708 N EAGLE ROCK BLVD</td>\n",
       "      <td>False</td>\n",
       "      <td>Cafe</td>\n",
       "      <td>26</td>\n",
       "      <td>EAGLE ROCK</td>\n",
       "    </tr>\n",
       "    <tr>\n",
       "      <th>1</th>\n",
       "      <td>11787</td>\n",
       "      <td>REILLY'S</td>\n",
       "      <td>100 WORLD WAY # 120</td>\n",
       "      <td>False</td>\n",
       "      <td>Restaurant</td>\n",
       "      <td>9</td>\n",
       "      <td>WORLD WAY</td>\n",
       "    </tr>\n",
       "    <tr>\n",
       "      <th>2</th>\n",
       "      <td>11788</td>\n",
       "      <td>STREET CHURROS</td>\n",
       "      <td>6801 HOLLYWOOD BLVD # 253</td>\n",
       "      <td>False</td>\n",
       "      <td>Fast Food</td>\n",
       "      <td>20</td>\n",
       "      <td>HOLLYWOOD BLVD</td>\n",
       "    </tr>\n",
       "    <tr>\n",
       "      <th>3</th>\n",
       "      <td>11789</td>\n",
       "      <td>TRINITI ECHO PARK</td>\n",
       "      <td>1814 W SUNSET BLVD</td>\n",
       "      <td>False</td>\n",
       "      <td>Restaurant</td>\n",
       "      <td>22</td>\n",
       "      <td>SUNSET BLVD</td>\n",
       "    </tr>\n",
       "    <tr>\n",
       "      <th>4</th>\n",
       "      <td>11790</td>\n",
       "      <td>POLLEN</td>\n",
       "      <td>2100 ECHO PARK AVE</td>\n",
       "      <td>False</td>\n",
       "      <td>Restaurant</td>\n",
       "      <td>20</td>\n",
       "      <td>ECHO PARK AVE</td>\n",
       "    </tr>\n",
       "    <tr>\n",
       "      <th>5</th>\n",
       "      <td>11791</td>\n",
       "      <td>THE SPOT GRILL</td>\n",
       "      <td>10004 NATIONAL BLVD</td>\n",
       "      <td>False</td>\n",
       "      <td>Restaurant</td>\n",
       "      <td>14</td>\n",
       "      <td>NATIONAL BLVD</td>\n",
       "    </tr>\n",
       "    <tr>\n",
       "      <th>6</th>\n",
       "      <td>11792</td>\n",
       "      <td>CPK</td>\n",
       "      <td>100 WORLD WAY # 126</td>\n",
       "      <td>False</td>\n",
       "      <td>Restaurant</td>\n",
       "      <td>100</td>\n",
       "      <td>WORLD WAY</td>\n",
       "    </tr>\n",
       "    <tr>\n",
       "      <th>7</th>\n",
       "      <td>11793</td>\n",
       "      <td>PHO LALA</td>\n",
       "      <td>3500 W 6TH ST STE 226</td>\n",
       "      <td>False</td>\n",
       "      <td>Restaurant</td>\n",
       "      <td>7</td>\n",
       "      <td>6TH ST</td>\n",
       "    </tr>\n",
       "    <tr>\n",
       "      <th>8</th>\n",
       "      <td>11794</td>\n",
       "      <td>ABC DONUTS</td>\n",
       "      <td>3027 N SAN FERNANDO RD UNIT 103</td>\n",
       "      <td>True</td>\n",
       "      <td>Fast Food</td>\n",
       "      <td>1</td>\n",
       "      <td>SAN FERNANDO</td>\n",
       "    </tr>\n",
       "    <tr>\n",
       "      <th>9</th>\n",
       "      <td>11795</td>\n",
       "      <td>UPSTAIRS</td>\n",
       "      <td>3707 N CAHUENGA BLVD</td>\n",
       "      <td>False</td>\n",
       "      <td>Restaurant</td>\n",
       "      <td>35</td>\n",
       "      <td>CAHUENGA BLVD</td>\n",
       "    </tr>\n",
       "  </tbody>\n",
       "</table>\n",
       "</div>"
      ],
      "text/plain": [
       "      id          object_name                          address  chain  \\\n",
       "0  11786  HABITAT COFFEE SHOP           3708 N EAGLE ROCK BLVD  False   \n",
       "1  11787             REILLY'S              100 WORLD WAY # 120  False   \n",
       "2  11788       STREET CHURROS        6801 HOLLYWOOD BLVD # 253  False   \n",
       "3  11789    TRINITI ECHO PARK               1814 W SUNSET BLVD  False   \n",
       "4  11790               POLLEN               2100 ECHO PARK AVE  False   \n",
       "5  11791       THE SPOT GRILL              10004 NATIONAL BLVD  False   \n",
       "6  11792                  CPK              100 WORLD WAY # 126  False   \n",
       "7  11793             PHO LALA            3500 W 6TH ST STE 226  False   \n",
       "8  11794           ABC DONUTS  3027 N SAN FERNANDO RD UNIT 103   True   \n",
       "9  11795             UPSTAIRS             3707 N CAHUENGA BLVD  False   \n",
       "\n",
       "  object_type  number     street_name  \n",
       "0        Cafe      26      EAGLE ROCK  \n",
       "1  Restaurant       9       WORLD WAY  \n",
       "2   Fast Food      20  HOLLYWOOD BLVD  \n",
       "3  Restaurant      22     SUNSET BLVD  \n",
       "4  Restaurant      20   ECHO PARK AVE  \n",
       "5  Restaurant      14   NATIONAL BLVD  \n",
       "6  Restaurant     100       WORLD WAY  \n",
       "7  Restaurant       7          6TH ST  \n",
       "8   Fast Food       1    SAN FERNANDO  \n",
       "9  Restaurant      35   CAHUENGA BLVD  "
      ]
     },
     "execution_count": 34,
     "metadata": {},
     "output_type": "execute_result"
    }
   ],
   "source": [
    "rest_data['street_name'] = rest_data['address'].str.split().str[1:4].str.join(' ')\n",
    "rest_data['street_name'] = rest_data['street_name'].str.replace(r'^(?:[W|N|S|E] )|(?:\\s[#|W|N|S|E])$', '', regex=True) \n",
    "rest_data.head(10)"
   ]
  },
  {
   "cell_type": "markdown",
   "metadata": {},
   "source": [
    "### Traza un gráfico de las diez mejores calles por número de restaurantes"
   ]
  },
  {
   "cell_type": "code",
   "execution_count": 24,
   "metadata": {},
   "outputs": [
    {
     "data": {
      "image/png": "[encoded data removed]",
      "text/plain": [
       "<Figure size 1080x432 with 1 Axes>"
      ]
     },
     "metadata": {
      "needs_background": "light"
     },
     "output_type": "display_data"
    }
   ],
   "source": [
    "top_streets = rest_data.groupby('street_name')['object_type'].count().sort_values(ascending=False).head(10).reset_index()\n",
    "top_streets.columns = ['street_name', 'restaurants']\n",
    "plt.figure(figsize=(15, 6))\n",
    "plt.bar(top_streets['street_name'], top_streets['restaurants'])\n",
    "plt.xlabel('street_names')\n",
    "plt.ylabel('número de restaurantes')\n",
    "plt.title('Las diez mejores calles por número de restaurantes')\n",
    "plt.xticks(rotation=45)\n",
    "plt.show()"
   ]
  },
  {
   "cell_type": "markdown",
   "metadata": {},
   "source": [
    "La calle SUNSET BLVD, es la que más restaurantes posee, siendo la mejor de las 10. "
   ]
  },
  {
   "cell_type": "markdown",
   "metadata": {},
   "source": [
    "### Encuentra el número de calles que solo tienen un restaurante"
   ]
  },
  {
   "cell_type": "code",
   "execution_count": 28,
   "metadata": {
    "scrolled": true
   },
   "outputs": [
    {
     "data": {
      "text/html": [
       "<div>\n",
       "<style scoped>\n",
       "    .dataframe tbody tr th:only-of-type {\n",
       "        vertical-align: middle;\n",
       "    }\n",
       "\n",
       "    .dataframe tbody tr th {\n",
       "        vertical-align: top;\n",
       "    }\n",
       "\n",
       "    .dataframe thead th {\n",
       "        text-align: right;\n",
       "    }\n",
       "</style>\n",
       "<table border=\"1\" class=\"dataframe\">\n",
       "  <thead>\n",
       "    <tr style=\"text-align: right;\">\n",
       "      <th></th>\n",
       "      <th>restaurants</th>\n",
       "    </tr>\n",
       "    <tr>\n",
       "      <th>street_name</th>\n",
       "      <th></th>\n",
       "    </tr>\n",
       "  </thead>\n",
       "  <tbody>\n",
       "    <tr>\n",
       "      <th>1/2 3RD ST</th>\n",
       "      <td>1</td>\n",
       "    </tr>\n",
       "    <tr>\n",
       "      <th>1/2 7TH ST</th>\n",
       "      <td>1</td>\n",
       "    </tr>\n",
       "    <tr>\n",
       "      <th>1/2 CITY TERRACE</th>\n",
       "      <td>1</td>\n",
       "    </tr>\n",
       "    <tr>\n",
       "      <th>1/2 COLORADO BLVD</th>\n",
       "      <td>1</td>\n",
       "    </tr>\n",
       "    <tr>\n",
       "      <th>1/2 E 2ND</th>\n",
       "      <td>1</td>\n",
       "    </tr>\n",
       "    <tr>\n",
       "      <th>...</th>\n",
       "      <td>...</td>\n",
       "    </tr>\n",
       "    <tr>\n",
       "      <th>ZOO DR</th>\n",
       "      <td>1</td>\n",
       "    </tr>\n",
       "    <tr>\n",
       "      <th>hollywood BLVD</th>\n",
       "      <td>1</td>\n",
       "    </tr>\n",
       "    <tr>\n",
       "      <th>pico BLVD</th>\n",
       "      <td>1</td>\n",
       "    </tr>\n",
       "    <tr>\n",
       "      <th>sunset BLVD</th>\n",
       "      <td>1</td>\n",
       "    </tr>\n",
       "    <tr>\n",
       "      <th>vine ST</th>\n",
       "      <td>1</td>\n",
       "    </tr>\n",
       "  </tbody>\n",
       "</table>\n",
       "<p>445 rows × 1 columns</p>\n",
       "</div>"
      ],
      "text/plain": [
       "                   restaurants\n",
       "street_name                   \n",
       "1/2 3RD ST                   1\n",
       "1/2 7TH ST                   1\n",
       "1/2 CITY TERRACE             1\n",
       "1/2 COLORADO BLVD            1\n",
       "1/2 E 2ND                    1\n",
       "...                        ...\n",
       "ZOO DR                       1\n",
       "hollywood BLVD               1\n",
       "pico BLVD                    1\n",
       "sunset BLVD                  1\n",
       "vine ST                      1\n",
       "\n",
       "[445 rows x 1 columns]"
      ]
     },
     "execution_count": 28,
     "metadata": {},
     "output_type": "execute_result"
    }
   ],
   "source": [
    "few_rests = rest_data.groupby('street_name')['object_type'].count().reset_index()\n",
    "few_rests.columns = ['street_name', 'restaurants']\n",
    "only_one = few_rests.query('restaurants == 1')\n",
    "only_one.groupby('street_name').count()"
   ]
  },
  {
   "cell_type": "markdown",
   "metadata": {},
   "source": [
    "Alrededor de 445 calles tienen solo un restaurante."
   ]
  },
  {
   "cell_type": "markdown",
   "metadata": {},
   "source": [
    "### Para las calles con muchos restaurantes, analiza la distribución del número de asientos. ¿Qué tendencias puedes ver?"
   ]
  },
  {
   "cell_type": "code",
   "execution_count": 29,
   "metadata": {
    "scrolled": true
   },
   "outputs": [
    {
     "data": {
      "text/plain": [
       "<AxesSubplot:xlabel='restaurants', ylabel='number'>"
      ]
     },
     "execution_count": 29,
     "metadata": {},
     "output_type": "execute_result"
    },
    {
     "data": {
      "image/png": "[encoded data removed]",
      "text/plain": [
       "<Figure size 432x288 with 1 Axes>"
      ]
     },
     "metadata": {
      "needs_background": "light"
     },
     "output_type": "display_data"
    }
   ],
   "source": [
    "seats = rest_data.groupby('street_name')['number'].sum().reset_index()\n",
    "distr = top_streets.merge(seats, on='street_name', how='left')\n",
    "distr.plot(x='restaurants', y='number', kind='scatter')"
   ]
  },
  {
   "cell_type": "code",
   "execution_count": 30,
   "metadata": {},
   "outputs": [
    {
     "data": {
      "text/html": [
       "<div>\n",
       "<style scoped>\n",
       "    .dataframe tbody tr th:only-of-type {\n",
       "        vertical-align: middle;\n",
       "    }\n",
       "\n",
       "    .dataframe tbody tr th {\n",
       "        vertical-align: top;\n",
       "    }\n",
       "\n",
       "    .dataframe thead th {\n",
       "        text-align: right;\n",
       "    }\n",
       "</style>\n",
       "<table border=\"1\" class=\"dataframe\">\n",
       "  <thead>\n",
       "    <tr style=\"text-align: right;\">\n",
       "      <th></th>\n",
       "      <th>street_name</th>\n",
       "      <th>restaurants</th>\n",
       "      <th>number</th>\n",
       "    </tr>\n",
       "  </thead>\n",
       "  <tbody>\n",
       "    <tr>\n",
       "      <th>0</th>\n",
       "      <td>SUNSET BLVD</td>\n",
       "      <td>390</td>\n",
       "      <td>18787</td>\n",
       "    </tr>\n",
       "    <tr>\n",
       "      <th>1</th>\n",
       "      <td>PICO BLVD</td>\n",
       "      <td>366</td>\n",
       "      <td>14920</td>\n",
       "    </tr>\n",
       "    <tr>\n",
       "      <th>2</th>\n",
       "      <td>WESTERN AVE</td>\n",
       "      <td>360</td>\n",
       "      <td>15012</td>\n",
       "    </tr>\n",
       "    <tr>\n",
       "      <th>3</th>\n",
       "      <td>FIGUEROA ST</td>\n",
       "      <td>329</td>\n",
       "      <td>14822</td>\n",
       "    </tr>\n",
       "    <tr>\n",
       "      <th>4</th>\n",
       "      <td>OLYMPIC BLVD</td>\n",
       "      <td>302</td>\n",
       "      <td>14924</td>\n",
       "    </tr>\n",
       "    <tr>\n",
       "      <th>5</th>\n",
       "      <td>VERMONT AVE</td>\n",
       "      <td>283</td>\n",
       "      <td>12919</td>\n",
       "    </tr>\n",
       "    <tr>\n",
       "      <th>6</th>\n",
       "      <td>SANTA MONICA BLVD</td>\n",
       "      <td>262</td>\n",
       "      <td>9164</td>\n",
       "    </tr>\n",
       "    <tr>\n",
       "      <th>7</th>\n",
       "      <td>3RD ST</td>\n",
       "      <td>252</td>\n",
       "      <td>10351</td>\n",
       "    </tr>\n",
       "    <tr>\n",
       "      <th>8</th>\n",
       "      <td>WILSHIRE BLVD</td>\n",
       "      <td>239</td>\n",
       "      <td>13568</td>\n",
       "    </tr>\n",
       "    <tr>\n",
       "      <th>9</th>\n",
       "      <td>6TH ST</td>\n",
       "      <td>233</td>\n",
       "      <td>9442</td>\n",
       "    </tr>\n",
       "  </tbody>\n",
       "</table>\n",
       "</div>"
      ],
      "text/plain": [
       "         street_name  restaurants  number\n",
       "0        SUNSET BLVD          390   18787\n",
       "1          PICO BLVD          366   14920\n",
       "2        WESTERN AVE          360   15012\n",
       "3        FIGUEROA ST          329   14822\n",
       "4       OLYMPIC BLVD          302   14924\n",
       "5        VERMONT AVE          283   12919\n",
       "6  SANTA MONICA BLVD          262    9164\n",
       "7             3RD ST          252   10351\n",
       "8      WILSHIRE BLVD          239   13568\n",
       "9             6TH ST          233    9442"
      ]
     },
     "execution_count": 30,
     "metadata": {},
     "output_type": "execute_result"
    }
   ],
   "source": [
    "distr"
   ]
  },
  {
   "cell_type": "markdown",
   "metadata": {},
   "source": [
    "Para las calles con muchos restaurantes, el número de asientos se distribuye más entre las cantidades de 10000 a 15000 asientos, entre 250 a 370 restaurantes."
   ]
  },
  {
   "cell_type": "markdown",
   "metadata": {},
   "source": [
    "## Conclusión general"
   ]
  },
  {
   "cell_type": "markdown",
   "metadata": {},
   "source": [
    "Después de analizar el dataset se pudo concluir lo siguiente:\n",
    "\n",
    "\n",
    "1. Primero, se decidió analizar la información del datset de los restaurantes, para ver los tipos de columnas, la cantidad de datos, los nombres, etc.\n",
    "2. Se encontraron valores ausentes en la columna chain; solo 3; como fueron pocos, se decidió eliminarlos, ya que no iban a afectar los datos.\n",
    "3. No se encontraron datos duplicados.\n",
    "4. Se tuvo que añadir una nueva columna 'street_name' para los nombres de las calles, para tener un mejor vistazo a los nombres de las calles.\n",
    "\n",
    "Asimismo, se comprobó lo siguiente:\n",
    "\n",
    "1. El tipo de establecimiento con la proporción del número de sillas más alta, es del tipo restaurante, así como el promedio.\n",
    "2. Hay más establecimientos que no son cadenas.\n",
    "3. Asimismo, es el tipo restaurante donde hay más establecimientos donde no son cadenas y son cadenas, esto se debe a que este tipo es el de mayor cantidad; sin embargo, el tipo pastelería es el que a menudo es cadena.\n",
    "4. Por último, La calle con más establecimientos, es la calle  SUNSET BLVD, además, es la calle con la mayor cantidad de sillas de las 10 calles con más establecimientos.\n",
    "\n",
    "Para concluir, El tipo de establecimiento en donde más se debería enfocar, es del tipo restaurante, la calle de Los Ángeles con el mayor potencial para realizar este proyecto, es la calle  SUNSET BLVD; debido a las proporciones que tiene en el número de sillas, y por la cantidad de establecimientos que posee.\n"
   ]
  },
  {
   "cell_type": "markdown",
   "metadata": {},
   "source": [
    "Presentation: <https://drive.google.com/file/d/1mhGD9ISv6RZh8K_IBvIndoJaRLWyXkwD/view?usp=share_link>"
   ]
  }
 ],
 "metadata": {
  "kernelspec": {
   "display_name": "Python 3 (ipykernel)",
   "language": "python",
   "name": "python3"
  },
  "language_info": {
   "codemirror_mode": {
    "name": "ipython",
    "version": 3
   },
   "file_extension": ".py",
   "mimetype": "text/x-python",
   "name": "python",
   "nbconvert_exporter": "python",
   "pygments_lexer": "ipython3",
   "version": "3.9.5"
  },
  "toc": {
   "base_numbering": 1,
   "nav_menu": {},
   "number_sections": true,
   "sideBar": true,
   "skip_h1_title": true,
   "title_cell": "Table of Contents",
   "title_sidebar": "Contents",
   "toc_cell": false,
   "toc_position": {
    "height": "calc(100% - 180px)",
    "left": "10px",
    "top": "150px",
    "width": "261px"
   },
   "toc_section_display": true,
   "toc_window_display": true
  }
 },
 "nbformat": 4,
 "nbformat_minor": 2
}
